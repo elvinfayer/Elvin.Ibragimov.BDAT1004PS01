{
 "cells": [
  {
   "cell_type": "markdown",
   "id": "80307c3a",
   "metadata": {},
   "source": [
    "5 - This is an integer data type.\n",
    "5.0 - This is a floating - point number(decimal) data type.\n",
    "5 > 1 - This is a boolean data type with a value of True. In Python, a boolean is represented as bool.\n",
    "'5' - This is a string data type.\n",
    "5 * 2 - This is an integer data type, resulting in the value 10.\n",
    "'5' * 2 - This is a string data type, resulting in the string '55' because it's a string repetition.\n",
    "'5' + '2' - This is a string data type, resulting in the string '52' because it's string concatenation.\n",
    "5 / 2 - This is a floating-point number data type, resulting in the value 2.5.\n",
    "5 % 2 - This is an integer data type, resulting in the value 1 (the remainder of the division).\n",
    "{ 5, 2, 1} -This is a set data type, containing the values 5, 2, and 1.\n",
    "5 == 3 - This is a boolean data type with a value of False.\n",
    "Pi (the number) -This would typically be represented as a floating-point number."
   ]
  },
  {
   "cell_type": "code",
   "execution_count": 1,
   "id": "074ef5b7",
   "metadata": {},
   "outputs": [
    {
     "name": "stdout",
     "output_type": "stream",
     "text": [
      "34\n",
      "True\n",
      "Supercalifragilisticexpialidocious\n",
      "First composer: Bartok\n",
      "Last composer: Buxtehude\n"
     ]
    }
   ],
   "source": [
    "#Question 2\n",
    "\n",
    "word = 'Supercalifragilisticexpialidocious'\n",
    "num_letters = len(word)\n",
    "print(num_letters)\n",
    "\n",
    "word = 'Supercalifragilisticexpialidocious'\n",
    "substring = 'ice'\n",
    "contains_ice = substring in word\n",
    "print(contains_ice)\n",
    "\n",
    "words = [\n",
    "    'Supercalifragilisticexpialidocious',\n",
    "    'Honorificabilitudinitatibus',\n",
    "    'Bababadalgharaghtakamminarronnkonn'\n",
    "]\n",
    "longest_word = max(words, key = len)\n",
    "print(longest_word)\n",
    "\n",
    "composers = ['Berlioz', 'Borodin', 'Brian', 'Bartok', 'Bellini', 'Buxtehude', 'Bernstein']\n",
    "composers.sort()\n",
    "first_composer = composers[0]\n",
    "last_composer = composers[-1]\n",
    "print(f\"First composer: {first_composer}\")\n",
    "print(f\"Last composer: {last_composer}\")\n",
    "\n",
    "#First composer: Bartok\n",
    "#Last composer: Buxtehude"
   ]
  },
  {
   "cell_type": "code",
   "execution_count": 31,
   "id": "6383c30c",
   "metadata": {},
   "outputs": [
    {
     "name": "stdout",
     "output_type": "stream",
     "text": [
      "1.7320508075688772\n"
     ]
    }
   ],
   "source": [
    "#Question 3\n",
    "\n",
    "import math\n",
    "\n",
    "def triangleArea(a, b, c):\n",
    "    s = (a + b + c) / 2\n",
    "\n",
    "    area = math.sqrt(s * (s - a) * (s - b) * (s - c))\n",
    "\n",
    "    return area\n",
    "\n",
    "result = triangleArea(2, 2, 2)\n",
    "print(result)\n"
   ]
  },
  {
   "cell_type": "code",
   "execution_count": 13,
   "id": "f55f3c81",
   "metadata": {},
   "outputs": [
    {
     "name": "stdout",
     "output_type": "stream",
     "text": [
      "Input the number of elements to be stored in the array: 5\n",
      "element - 0 : 25\n",
      "element - 1 : 47\n",
      "element - 2 : 42\n",
      "element - 3 : 56\n",
      "element - 4 : 32\n",
      "The Even elements are:\n",
      "42 56 32\n",
      "The Odd elements are :\n",
      "25 47\n"
     ]
    }
   ],
   "source": [
    "#Question 4\n",
    "\n",
    "n = int(input(\"Input the number of elements to be stored in the array: \"))\n",
    "\n",
    "even_elements = []\n",
    "odd_elements = []\n",
    "\n",
    "for i in range(n):\n",
    "    element = int(input(f\"element - {i} : \"))\n",
    "    if element % 2 == 0:\n",
    "        even_elements.append(element)\n",
    "    else:\n",
    "        odd_elements.append(element)\n",
    "\n",
    "print(\"The Even elements are:\")\n",
    "print(' '.join(map(str, even_elements)))\n",
    "print(\"The Odd elements are :\")\n",
    "print(' '.join(map(str, odd_elements)))"
   ]
  },
  {
   "cell_type": "code",
   "execution_count": 14,
   "id": "f8b1fd21",
   "metadata": {},
   "outputs": [
    {
     "name": "stdout",
     "output_type": "stream",
     "text": [
      "True\n",
      "False\n",
      "Point (1, 1) in the first rectangle: False\n",
      "Point (1, 1) in the second rectangle: True\n"
     ]
    }
   ],
   "source": [
    "#Question 5\n",
    "\n",
    "def inside(x, y, x1, y1, x2, y2):\n",
    "   \n",
    "    return x1 <= x <= x2 and y1 <= y <= y2\n",
    "\n",
    "print(inside(1, 1, 0, 0, 2, 3))  \n",
    "print(inside(-1, -1, 0, 0, 2, 3)) \n",
    "\n",
    "result1 = inside(1, 1, 0.3, 0.5, 1.1, 0.7)\n",
    "result2 = inside(1, 1, 0.5, 0.2, 1.1, 2)\n",
    "\n",
    "print(\"Point (1, 1) in the first rectangle:\", result1)\n",
    "print(\"Point (1, 1) in the second rectangle:\", result2) \n"
   ]
  },
  {
   "cell_type": "code",
   "execution_count": 15,
   "id": "a5f253ca",
   "metadata": {},
   "outputs": [
    {
     "name": "stdout",
     "output_type": "stream",
     "text": [
      "appyhay\n",
      "enterway\n"
     ]
    }
   ],
   "source": [
    "#Question 6\n",
    "\n",
    "def pig(word):\n",
    "\n",
    "    word = word.lower()\n",
    "\n",
    "    if word[0] in 'aeiou':\n",
    "        return word + 'way'\n",
    "    else:\n",
    "        \n",
    "        for i in range(len(word)):\n",
    "            if word[i] in 'aeiouy':\n",
    "                return word[i:] + word[:i] + 'ay'\n",
    "\n",
    "print(pig('happy'))  \n",
    "print(pig('Enter'))  \n"
   ]
  },
  {
   "cell_type": "code",
   "execution_count": 27,
   "id": "5dd1b906",
   "metadata": {},
   "outputs": [
    {
     "name": "stdout",
     "output_type": "stream",
     "text": [
      "There are no patients of blood type A.\n",
      "There are no patients of blood type B.\n",
      "There are no patients of blood type AB.\n",
      "There are no patients of blood type O.\n",
      "There are no patients of blood type OO.\n"
     ]
    }
   ],
   "source": [
    "#Question 7\n",
    "\n",
    "def bldcount(filename):\n",
    "    blood_types = ['A', 'B', 'AB', 'O', 'OO']\n",
    "    blood_count = {blood_type: 0 for blood_type in blood_types}\n",
    "\n",
    "    try:\n",
    "        with open(filename, 'r') as file:\n",
    "            lines = file.readlines()\n",
    "            for line in lines:\n",
    "                line = line.strip()\n",
    "                if line in blood_count:\n",
    "                    blood_count[line] += 1\n",
    "        for blood_type, count in blood_count.items():\n",
    "            if count == 1:\n",
    "                print(f\"There is one patient of blood type {blood_type}.\")\n",
    "            elif count > 1:\n",
    "                print(f\"There are {count} patients of blood type {blood_type}.\")\n",
    "            else:\n",
    "                print(f\"There are no patients of blood type {blood_type}.\")\n",
    "    except FileNotFoundError:\n",
    "        print(f\"File '{filename}' not found.\")\n",
    "bldcount('bloodtype1.txt')"
   ]
  },
  {
   "cell_type": "code",
   "execution_count": 28,
   "id": "50b41a35",
   "metadata": {},
   "outputs": [
    {
     "name": "stdout",
     "output_type": "stream",
     "text": [
      "Currency 'JPY' not found in the exchange rate data.\n",
      "100 EUR in USD is 122.96544\n"
     ]
    }
   ],
   "source": [
    "#Question 8\n",
    "\n",
    "def curconv(currency, amount):\n",
    "    exchange_rates = {}\n",
    "    \n",
    "    try:\n",
    "        with open('currencies.txt', 'r') as file:\n",
    "            for line in file:\n",
    "                parts = line.split()\n",
    "                if len(parts) == 3:\n",
    "                    currency_code, rate = parts[0], float(parts[1])\n",
    "                    exchange_rates[currency_code] = rate\n",
    "\n",
    "        if currency in exchange_rates:\n",
    "            usd_amount = amount * exchange_rates[currency]\n",
    "            return usd_amount\n",
    "        else:\n",
    "            print(f\"Currency '{currency}' not found in the exchange rate data.\")\n",
    "    except FileNotFoundError:\n",
    "        print(\"Exchange rate data file 'currencies.txt' not found.\")\n",
    "\n",
    "result_eur = curconv('EUR', 100)\n",
    "result_jpy = curconv('JPY', 100)\n",
    "\n",
    "if result_eur is not None:\n",
    "    print(f'100 EUR in USD is {result_eur:.5f}')\n",
    "if result_jpy is not None:\n",
    "    print(f'100 JPY in USD is {result_jpy:.5f}')"
   ]
  },
  {
   "cell_type": "markdown",
   "id": "33d659a1",
   "metadata": {},
   "source": [
    "Trying to add incompatible variables, as in adding 6 + 'a':\n",
    "This will cause a TypeError because we cannot perform addition between an integer and a string.\n",
    "\n",
    "Referring to the 12th item of a list that has only 10 items:\n",
    "This will cause an IndexError because we are trying to access an index that is out of range for the list.\n",
    "\n",
    "Using a value that is out of range for a function's input, such as calling math.sqrt(-1.0):\n",
    "This will cause a ValueError because the math.sqrt function does not accept negative values for square roots.\n",
    "\n",
    "Using an undeclared variable, such as print(x) when x has not been defined:\n",
    "This will cause a NameError because the variable x is not defined in the current scope.\n",
    "\n",
    "Trying to open a file that does not exist, such as mistyping the file name or looking in the wrong directory:\n",
    "This will cause a FileNotFoundError because the file being referenced does not exist in the specified location."
   ]
  },
  {
   "cell_type": "code",
   "execution_count": 30,
   "id": "892345f5",
   "metadata": {},
   "outputs": [
    {
     "name": "stdout",
     "output_type": "stream",
     "text": [
      "[1, 1, 1, 3, 5, 1, 1, 2, 1, 0, 1, 0, 1, 2, 4, 0, 1, 2, 0, 3, 1, 0, 1, 1, 0, 0]\n",
      "[1, 0, 0, 0, 1, 0, 0, 0, 0, 0, 0, 1, 0, 0, 0, 2, 0, 0, 0, 0, 0, 0, 0, 0, 0, 0]\n"
     ]
    }
   ],
   "source": [
    "#Question 5\n",
    "\n",
    "def frequencies(text):\n",
    "    letters = 'abcdefghijklmnopqrstuvwxyz'\n",
    "    letter_count = [0] * 26 \n",
    "\n",
    "    for char in text:\n",
    "        char = char.lower()\n",
    "        if char in letters:\n",
    "            index = letters.index(char)\n",
    "            letter_count[index] += 1\n",
    "\n",
    "    return letter_count\n",
    "\n",
    "result1 = frequencies('The quick red fox got bored and went home.')\n",
    "result2 = frequencies('apple')\n",
    "\n",
    "print(result1)\n",
    "print(result2)\n"
   ]
  },
  {
   "cell_type": "code",
   "execution_count": null,
   "id": "8a1f6174",
   "metadata": {},
   "outputs": [],
   "source": []
  }
 ],
 "metadata": {
  "kernelspec": {
   "display_name": "Python 3 (ipykernel)",
   "language": "python",
   "name": "python3"
  },
  "language_info": {
   "codemirror_mode": {
    "name": "ipython",
    "version": 3
   },
   "file_extension": ".py",
   "mimetype": "text/x-python",
   "name": "python",
   "nbconvert_exporter": "python",
   "pygments_lexer": "ipython3",
   "version": "3.11.5"
  }
 },
 "nbformat": 4,
 "nbformat_minor": 5
}
